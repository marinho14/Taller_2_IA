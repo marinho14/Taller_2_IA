{
  "nbformat": 4,
  "nbformat_minor": 0,
  "metadata": {
    "colab": {
      "name": "Copia de BaseDatosOro.ipynb",
      "provenance": [],
      "include_colab_link": true
    },
    "kernelspec": {
      "name": "python3",
      "display_name": "Python 3"
    },
    "language_info": {
      "name": "python"
    }
  },
  "cells": [
    {
      "cell_type": "markdown",
      "metadata": {
        "id": "view-in-github",
        "colab_type": "text"
      },
      "source": [
        "<a href=\"https://colab.research.google.com/github/marinho14/Taller_2_IA/blob/main/Copia_de_BaseDatosOro.ipynb\" target=\"_parent\"><img src=\"https://colab.research.google.com/assets/colab-badge.svg\" alt=\"Open In Colab\"/></a>"
      ]
    },
    {
      "cell_type": "markdown",
      "metadata": {
        "id": "RgsTEhRlF39V"
      },
      "source": [
        "## ORO!!! Forecasting"
      ]
    },
    {
      "cell_type": "code",
      "metadata": {
        "id": "N7tyhnsLGA30"
      },
      "source": [
        "## Importando las librerías\n",
        "import pandas as pd\n",
        "import numpy as np"
      ],
      "execution_count": null,
      "outputs": []
    },
    {
      "cell_type": "code",
      "metadata": {
        "id": "_XPJfHq1-LLz"
      },
      "source": [
        "# Definicion de la funcion J1\n",
        "def J_1(teta0,teta1,x_1,x_2,y): \n",
        "    # Se define la hipotesis (teta0*x1+teta1*x2-y)\n",
        "    Jp=(((teta0*x_1+teta1*x_2)-y)**2)    \n",
        "    J=np.sum(Jp)/(2*x_1.size)\n",
        "    return J"
      ],
      "execution_count": null,
      "outputs": []
    },
    {
      "cell_type": "code",
      "metadata": {
        "id": "Opw7aPwUGEoV"
      },
      "source": [
        "# Aca se lee el archivo del precio del oro\n",
        "dataframeGold = pd.read_csv('gold_price_data.csv')"
      ],
      "execution_count": null,
      "outputs": []
    },
    {
      "cell_type": "code",
      "metadata": {
        "id": "k0kuvBqqIDr9"
      },
      "source": [
        "## Se define la etiqueta y caracteristicas \n",
        "etiqueta = np.array(dataframeGold['Value'])[2:]\n",
        "car_m1 = np.array(dataframeGold['Value'])[1:-1]\n",
        "car_m2 = np.array(dataframeGold['Value'])[:-2]"
      ],
      "execution_count": null,
      "outputs": []
    },
    {
      "cell_type": "code",
      "metadata": {
        "id": "C_kbWkKeJV0p"
      },
      "source": [
        "dataset = pd.DataFrame({'Carac menos 2':car_m2, 'Carac menos 1':car_m1, 'Etiqueta':etiqueta})\n",
        "dataset.to_csv('goldPriceArranged.csv')"
      ],
      "execution_count": null,
      "outputs": []
    },
    {
      "cell_type": "code",
      "metadata": {
        "id": "g0aUVperRvwL"
      },
      "source": [
        "matrizDatos = dataset.to_numpy()"
      ],
      "execution_count": null,
      "outputs": []
    },
    {
      "cell_type": "code",
      "metadata": {
        "colab": {
          "base_uri": "https://localhost:8080/"
        },
        "id": "XCbk4qeP_kee",
        "outputId": "e93bc5cc-6c87-4d30-8d38-6e0833edce4e"
      },
      "source": [
        "#Se define la función y se encuentran los valores por fuerza bruta \n",
        "J,T0,T1,Jmin,mini = 0,0,0,0,J_1(-2,-2,car_m1,car_m2,etiqueta)\n",
        "for T0i in np.arange(-2,2,0.01):\n",
        "  for T1j in np.arange(-2,2,0.01):\n",
        "    #Funcion de costo\n",
        "    J=J_1(T0i,T1j,car_m1,car_m2,etiqueta)\n",
        "    if J < mini:\n",
        "      mini = J\n",
        "      T0 = T0i\n",
        "      T1 = T1j\n",
        "      Jmin = J\n",
        "print(\"Teta0 es {}, Teta1 es {}, El error es {}\".format(T0,T1,Jmin))"
      ],
      "execution_count": null,
      "outputs": [
        {
          "output_type": "stream",
          "text": [
            "Teta0 es 0.9900000000000029, Teta1 es 0.010000000000001563, El error es 40.803401532663564\n"
          ],
          "name": "stdout"
        }
      ]
    }
  ]
}